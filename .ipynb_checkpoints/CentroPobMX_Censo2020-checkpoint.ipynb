{
 "cells": [
  {
   "cell_type": "code",
   "execution_count": 4,
   "metadata": {},
   "outputs": [],
   "source": [
    "import pandas as pd\n",
    "import re\n",
    "import math\n",
    "import numpy"
   ]
  },
  {
   "cell_type": "markdown",
   "metadata": {},
   "source": [
    "### Se exporta archivo CSV tomado de la página INEGI"
   ]
  },
  {
   "cell_type": "code",
   "execution_count": 5,
   "metadata": {},
   "outputs": [],
   "source": [
    "pob = pd.read_csv(\"censo2020.csv\", encoding=\"utf-8\")"
   ]
  },
  {
   "cell_type": "code",
   "execution_count": 6,
   "metadata": {},
   "outputs": [
    {
     "data": {
      "text/html": [
       "<div>\n",
       "<style scoped>\n",
       "    .dataframe tbody tr th:only-of-type {\n",
       "        vertical-align: middle;\n",
       "    }\n",
       "\n",
       "    .dataframe tbody tr th {\n",
       "        vertical-align: top;\n",
       "    }\n",
       "\n",
       "    .dataframe thead th {\n",
       "        text-align: right;\n",
       "    }\n",
       "</style>\n",
       "<table border=\"1\" class=\"dataframe\">\n",
       "  <thead>\n",
       "    <tr style=\"text-align: right;\">\n",
       "      <th></th>\n",
       "      <th>ENTIDAD</th>\n",
       "      <th>NOM_ENT</th>\n",
       "      <th>MUN</th>\n",
       "      <th>NOM_MUN</th>\n",
       "      <th>LOC</th>\n",
       "      <th>NOM_LOC</th>\n",
       "      <th>LONGITUD</th>\n",
       "      <th>LATITUD</th>\n",
       "      <th>ALTITUD</th>\n",
       "      <th>POBTOT</th>\n",
       "      <th>POBFEM</th>\n",
       "      <th>POBMAS</th>\n",
       "      <th>TAMLOC</th>\n",
       "    </tr>\n",
       "  </thead>\n",
       "  <tbody>\n",
       "    <tr>\n",
       "      <th>0</th>\n",
       "      <td>0</td>\n",
       "      <td>Total nacional</td>\n",
       "      <td>0</td>\n",
       "      <td>Total nacional</td>\n",
       "      <td>0</td>\n",
       "      <td>Total nacional</td>\n",
       "      <td>NaN</td>\n",
       "      <td>NaN</td>\n",
       "      <td>NaN</td>\n",
       "      <td>126014024</td>\n",
       "      <td>64540634</td>\n",
       "      <td>61473390</td>\n",
       "      <td>*</td>\n",
       "    </tr>\n",
       "    <tr>\n",
       "      <th>1</th>\n",
       "      <td>0</td>\n",
       "      <td>Total nacional</td>\n",
       "      <td>0</td>\n",
       "      <td>Total nacional</td>\n",
       "      <td>9998</td>\n",
       "      <td>Localidades de una vivienda</td>\n",
       "      <td>NaN</td>\n",
       "      <td>NaN</td>\n",
       "      <td>NaN</td>\n",
       "      <td>250354</td>\n",
       "      <td>96869</td>\n",
       "      <td>153485</td>\n",
       "      <td>*</td>\n",
       "    </tr>\n",
       "    <tr>\n",
       "      <th>2</th>\n",
       "      <td>0</td>\n",
       "      <td>Total nacional</td>\n",
       "      <td>0</td>\n",
       "      <td>Total nacional</td>\n",
       "      <td>9999</td>\n",
       "      <td>Localidades de dos viviendas</td>\n",
       "      <td>NaN</td>\n",
       "      <td>NaN</td>\n",
       "      <td>NaN</td>\n",
       "      <td>147125</td>\n",
       "      <td>61324</td>\n",
       "      <td>85801</td>\n",
       "      <td>*</td>\n",
       "    </tr>\n",
       "    <tr>\n",
       "      <th>3</th>\n",
       "      <td>1</td>\n",
       "      <td>Aguascalientes</td>\n",
       "      <td>0</td>\n",
       "      <td>Total de la entidad Aguascalientes</td>\n",
       "      <td>0</td>\n",
       "      <td>Total de la Entidad</td>\n",
       "      <td>NaN</td>\n",
       "      <td>NaN</td>\n",
       "      <td>NaN</td>\n",
       "      <td>1425607</td>\n",
       "      <td>728924</td>\n",
       "      <td>696683</td>\n",
       "      <td>*</td>\n",
       "    </tr>\n",
       "    <tr>\n",
       "      <th>4</th>\n",
       "      <td>1</td>\n",
       "      <td>Aguascalientes</td>\n",
       "      <td>0</td>\n",
       "      <td>Total de la entidad Aguascalientes</td>\n",
       "      <td>9998</td>\n",
       "      <td>Localidades de una vivienda</td>\n",
       "      <td>NaN</td>\n",
       "      <td>NaN</td>\n",
       "      <td>NaN</td>\n",
       "      <td>3697</td>\n",
       "      <td>1510</td>\n",
       "      <td>2187</td>\n",
       "      <td>*</td>\n",
       "    </tr>\n",
       "  </tbody>\n",
       "</table>\n",
       "</div>"
      ],
      "text/plain": [
       "   ENTIDAD         NOM_ENT  MUN                             NOM_MUN   LOC  \\\n",
       "0        0  Total nacional    0                      Total nacional     0   \n",
       "1        0  Total nacional    0                      Total nacional  9998   \n",
       "2        0  Total nacional    0                      Total nacional  9999   \n",
       "3        1  Aguascalientes    0  Total de la entidad Aguascalientes     0   \n",
       "4        1  Aguascalientes    0  Total de la entidad Aguascalientes  9998   \n",
       "\n",
       "                        NOM_LOC LONGITUD LATITUD ALTITUD     POBTOT    POBFEM  \\\n",
       "0                Total nacional      NaN     NaN     NaN  126014024  64540634   \n",
       "1   Localidades de una vivienda      NaN     NaN     NaN     250354     96869   \n",
       "2  Localidades de dos viviendas      NaN     NaN     NaN     147125     61324   \n",
       "3           Total de la Entidad      NaN     NaN     NaN    1425607    728924   \n",
       "4   Localidades de una vivienda      NaN     NaN     NaN       3697      1510   \n",
       "\n",
       "     POBMAS TAMLOC  \n",
       "0  61473390      *  \n",
       "1    153485      *  \n",
       "2     85801      *  \n",
       "3    696683      *  \n",
       "4      2187      *  "
      ]
     },
     "execution_count": 6,
     "metadata": {},
     "output_type": "execute_result"
    }
   ],
   "source": [
    "pob.head()"
   ]
  },
  {
   "cell_type": "markdown",
   "metadata": {},
   "source": [
    "### Se retiran todos los elementos que no son de una localidad (Totales por estado, municipio, localidades de 1 o 2 viviendas)"
   ]
  },
  {
   "cell_type": "code",
   "execution_count": 7,
   "metadata": {},
   "outputs": [],
   "source": [
    "pob.dropna(subset=[\"LONGITUD\"], inplace=True)"
   ]
  },
  {
   "cell_type": "code",
   "execution_count": 8,
   "metadata": {},
   "outputs": [
    {
     "data": {
      "text/html": [
       "<div>\n",
       "<style scoped>\n",
       "    .dataframe tbody tr th:only-of-type {\n",
       "        vertical-align: middle;\n",
       "    }\n",
       "\n",
       "    .dataframe tbody tr th {\n",
       "        vertical-align: top;\n",
       "    }\n",
       "\n",
       "    .dataframe thead th {\n",
       "        text-align: right;\n",
       "    }\n",
       "</style>\n",
       "<table border=\"1\" class=\"dataframe\">\n",
       "  <thead>\n",
       "    <tr style=\"text-align: right;\">\n",
       "      <th></th>\n",
       "      <th>ENTIDAD</th>\n",
       "      <th>NOM_ENT</th>\n",
       "      <th>MUN</th>\n",
       "      <th>NOM_MUN</th>\n",
       "      <th>LOC</th>\n",
       "      <th>NOM_LOC</th>\n",
       "      <th>LONGITUD</th>\n",
       "      <th>LATITUD</th>\n",
       "      <th>ALTITUD</th>\n",
       "      <th>POBTOT</th>\n",
       "      <th>POBFEM</th>\n",
       "      <th>POBMAS</th>\n",
       "      <th>TAMLOC</th>\n",
       "    </tr>\n",
       "  </thead>\n",
       "  <tbody>\n",
       "    <tr>\n",
       "      <th>7</th>\n",
       "      <td>1</td>\n",
       "      <td>Aguascalientes</td>\n",
       "      <td>1</td>\n",
       "      <td>Aguascalientes</td>\n",
       "      <td>1</td>\n",
       "      <td>Aguascalientes</td>\n",
       "      <td>102°17'45.768\" W</td>\n",
       "      <td>21°52'47.362\" N</td>\n",
       "      <td>1878</td>\n",
       "      <td>863893</td>\n",
       "      <td>444725</td>\n",
       "      <td>419168</td>\n",
       "      <td>13</td>\n",
       "    </tr>\n",
       "    <tr>\n",
       "      <th>8</th>\n",
       "      <td>1</td>\n",
       "      <td>Aguascalientes</td>\n",
       "      <td>1</td>\n",
       "      <td>Aguascalientes</td>\n",
       "      <td>94</td>\n",
       "      <td>Granja Adelita</td>\n",
       "      <td>102°22'24.710\" W</td>\n",
       "      <td>21°52'18.749\" N</td>\n",
       "      <td>1902</td>\n",
       "      <td>5</td>\n",
       "      <td>*</td>\n",
       "      <td>*</td>\n",
       "      <td>1</td>\n",
       "    </tr>\n",
       "    <tr>\n",
       "      <th>9</th>\n",
       "      <td>1</td>\n",
       "      <td>Aguascalientes</td>\n",
       "      <td>1</td>\n",
       "      <td>Aguascalientes</td>\n",
       "      <td>96</td>\n",
       "      <td>Agua Azul</td>\n",
       "      <td>102°21'25.639\" W</td>\n",
       "      <td>21°53'01.522\" N</td>\n",
       "      <td>1861</td>\n",
       "      <td>41</td>\n",
       "      <td>17</td>\n",
       "      <td>24</td>\n",
       "      <td>1</td>\n",
       "    </tr>\n",
       "    <tr>\n",
       "      <th>10</th>\n",
       "      <td>1</td>\n",
       "      <td>Aguascalientes</td>\n",
       "      <td>1</td>\n",
       "      <td>Aguascalientes</td>\n",
       "      <td>102</td>\n",
       "      <td>Los Arbolitos [Rancho]</td>\n",
       "      <td>102°21'26.261\" W</td>\n",
       "      <td>21°46'48.650\" N</td>\n",
       "      <td>1861</td>\n",
       "      <td>8</td>\n",
       "      <td>*</td>\n",
       "      <td>*</td>\n",
       "      <td>1</td>\n",
       "    </tr>\n",
       "    <tr>\n",
       "      <th>11</th>\n",
       "      <td>1</td>\n",
       "      <td>Aguascalientes</td>\n",
       "      <td>1</td>\n",
       "      <td>Aguascalientes</td>\n",
       "      <td>104</td>\n",
       "      <td>Ardillas de Abajo (Las Ardillas)</td>\n",
       "      <td>102°11'30.914\" W</td>\n",
       "      <td>21°56'42.243\" N</td>\n",
       "      <td>1989</td>\n",
       "      <td>1</td>\n",
       "      <td>*</td>\n",
       "      <td>*</td>\n",
       "      <td>1</td>\n",
       "    </tr>\n",
       "  </tbody>\n",
       "</table>\n",
       "</div>"
      ],
      "text/plain": [
       "    ENTIDAD         NOM_ENT  MUN         NOM_MUN  LOC  \\\n",
       "7         1  Aguascalientes    1  Aguascalientes    1   \n",
       "8         1  Aguascalientes    1  Aguascalientes   94   \n",
       "9         1  Aguascalientes    1  Aguascalientes   96   \n",
       "10        1  Aguascalientes    1  Aguascalientes  102   \n",
       "11        1  Aguascalientes    1  Aguascalientes  104   \n",
       "\n",
       "                             NOM_LOC          LONGITUD          LATITUD  \\\n",
       "7                     Aguascalientes  102°17'45.768\" W  21°52'47.362\" N   \n",
       "8                     Granja Adelita  102°22'24.710\" W  21°52'18.749\" N   \n",
       "9                          Agua Azul  102°21'25.639\" W  21°53'01.522\" N   \n",
       "10            Los Arbolitos [Rancho]  102°21'26.261\" W  21°46'48.650\" N   \n",
       "11  Ardillas de Abajo (Las Ardillas)  102°11'30.914\" W  21°56'42.243\" N   \n",
       "\n",
       "   ALTITUD  POBTOT  POBFEM  POBMAS TAMLOC  \n",
       "7     1878  863893  444725  419168     13  \n",
       "8     1902       5       *       *      1  \n",
       "9     1861      41      17      24      1  \n",
       "10    1861       8       *       *      1  \n",
       "11    1989       1       *       *      1  "
      ]
     },
     "execution_count": 8,
     "metadata": {},
     "output_type": "execute_result"
    }
   ],
   "source": [
    "pob.head()"
   ]
  },
  {
   "cell_type": "code",
   "execution_count": 9,
   "metadata": {
    "scrolled": true
   },
   "outputs": [
    {
     "data": {
      "text/html": [
       "<div>\n",
       "<style scoped>\n",
       "    .dataframe tbody tr th:only-of-type {\n",
       "        vertical-align: middle;\n",
       "    }\n",
       "\n",
       "    .dataframe tbody tr th {\n",
       "        vertical-align: top;\n",
       "    }\n",
       "\n",
       "    .dataframe thead th {\n",
       "        text-align: right;\n",
       "    }\n",
       "</style>\n",
       "<table border=\"1\" class=\"dataframe\">\n",
       "  <thead>\n",
       "    <tr style=\"text-align: right;\">\n",
       "      <th></th>\n",
       "      <th>ENTIDAD</th>\n",
       "      <th>NOM_ENT</th>\n",
       "      <th>MUN</th>\n",
       "      <th>NOM_MUN</th>\n",
       "      <th>LOC</th>\n",
       "      <th>NOM_LOC</th>\n",
       "      <th>LONGITUD</th>\n",
       "      <th>LATITUD</th>\n",
       "      <th>ALTITUD</th>\n",
       "      <th>POBTOT</th>\n",
       "      <th>POBFEM</th>\n",
       "      <th>POBMAS</th>\n",
       "      <th>TAMLOC</th>\n",
       "    </tr>\n",
       "  </thead>\n",
       "  <tbody>\n",
       "    <tr>\n",
       "      <th>195656</th>\n",
       "      <td>32</td>\n",
       "      <td>Zacatecas</td>\n",
       "      <td>58</td>\n",
       "      <td>Santa María de la Paz</td>\n",
       "      <td>35</td>\n",
       "      <td>Los Trigos (Mesa de los Trigos)</td>\n",
       "      <td>103°14'27.792\" W</td>\n",
       "      <td>21°29'51.355\" N</td>\n",
       "      <td>2499</td>\n",
       "      <td>89</td>\n",
       "      <td>43</td>\n",
       "      <td>46</td>\n",
       "      <td>1</td>\n",
       "    </tr>\n",
       "    <tr>\n",
       "      <th>195657</th>\n",
       "      <td>32</td>\n",
       "      <td>Zacatecas</td>\n",
       "      <td>58</td>\n",
       "      <td>Santa María de la Paz</td>\n",
       "      <td>37</td>\n",
       "      <td>Mesa Grande</td>\n",
       "      <td>103°24'52.925\" W</td>\n",
       "      <td>21°33'12.375\" N</td>\n",
       "      <td>1944</td>\n",
       "      <td>165</td>\n",
       "      <td>88</td>\n",
       "      <td>77</td>\n",
       "      <td>1</td>\n",
       "    </tr>\n",
       "    <tr>\n",
       "      <th>195658</th>\n",
       "      <td>32</td>\n",
       "      <td>Zacatecas</td>\n",
       "      <td>58</td>\n",
       "      <td>Santa María de la Paz</td>\n",
       "      <td>39</td>\n",
       "      <td>San Isidro</td>\n",
       "      <td>103°20'14.164\" W</td>\n",
       "      <td>21°29'11.130\" N</td>\n",
       "      <td>2031</td>\n",
       "      <td>1</td>\n",
       "      <td>*</td>\n",
       "      <td>*</td>\n",
       "      <td>1</td>\n",
       "    </tr>\n",
       "    <tr>\n",
       "      <th>195659</th>\n",
       "      <td>32</td>\n",
       "      <td>Zacatecas</td>\n",
       "      <td>58</td>\n",
       "      <td>Santa María de la Paz</td>\n",
       "      <td>41</td>\n",
       "      <td>San Miguel Tepetitlán</td>\n",
       "      <td>103°20'09.356\" W</td>\n",
       "      <td>21°30'15.168\" N</td>\n",
       "      <td>1977</td>\n",
       "      <td>97</td>\n",
       "      <td>50</td>\n",
       "      <td>47</td>\n",
       "      <td>1</td>\n",
       "    </tr>\n",
       "    <tr>\n",
       "      <th>195660</th>\n",
       "      <td>32</td>\n",
       "      <td>Zacatecas</td>\n",
       "      <td>58</td>\n",
       "      <td>Santa María de la Paz</td>\n",
       "      <td>42</td>\n",
       "      <td>San Rafael</td>\n",
       "      <td>103°22'20.134\" W</td>\n",
       "      <td>21°31'39.341\" N</td>\n",
       "      <td>2042</td>\n",
       "      <td>3</td>\n",
       "      <td>*</td>\n",
       "      <td>*</td>\n",
       "      <td>1</td>\n",
       "    </tr>\n",
       "  </tbody>\n",
       "</table>\n",
       "</div>"
      ],
      "text/plain": [
       "        ENTIDAD    NOM_ENT  MUN                NOM_MUN  LOC  \\\n",
       "195656       32  Zacatecas   58  Santa María de la Paz   35   \n",
       "195657       32  Zacatecas   58  Santa María de la Paz   37   \n",
       "195658       32  Zacatecas   58  Santa María de la Paz   39   \n",
       "195659       32  Zacatecas   58  Santa María de la Paz   41   \n",
       "195660       32  Zacatecas   58  Santa María de la Paz   42   \n",
       "\n",
       "                                NOM_LOC          LONGITUD          LATITUD  \\\n",
       "195656  Los Trigos (Mesa de los Trigos)  103°14'27.792\" W  21°29'51.355\" N   \n",
       "195657                      Mesa Grande  103°24'52.925\" W  21°33'12.375\" N   \n",
       "195658                       San Isidro  103°20'14.164\" W  21°29'11.130\" N   \n",
       "195659            San Miguel Tepetitlán  103°20'09.356\" W  21°30'15.168\" N   \n",
       "195660                       San Rafael  103°22'20.134\" W  21°31'39.341\" N   \n",
       "\n",
       "       ALTITUD  POBTOT POBFEM POBMAS TAMLOC  \n",
       "195656    2499      89     43     46      1  \n",
       "195657    1944     165     88     77      1  \n",
       "195658    2031       1      *      *      1  \n",
       "195659    1977      97     50     47      1  \n",
       "195660    2042       3      *      *      1  "
      ]
     },
     "execution_count": 9,
     "metadata": {},
     "output_type": "execute_result"
    }
   ],
   "source": [
    "pob.tail()"
   ]
  },
  {
   "cell_type": "markdown",
   "metadata": {},
   "source": [
    "### Método para conversión de coordenadas geográfica de formato GMS (grados, minutos y segundos) a formato decimal"
   ]
  },
  {
   "cell_type": "code",
   "execution_count": 10,
   "metadata": {},
   "outputs": [],
   "source": [
    "def gmsToDec(gms):\n",
    "    gmsRegex = re.compile(r\"(\\d{2,3}[°])(\\d{2}['])(\\d{2}[.]\\d{3}[\\\"])\")\n",
    "    mo = gmsRegex.search(gms)\n",
    "    grads = float(mo.group(1)[:-1])\n",
    "    mints = float(mo.group(2)[:-1])\n",
    "    segs = float(mo.group(3)[:-1])\n",
    "\n",
    "    dec = grads + mints/60 + segs/3600\n",
    "    \n",
    "    return dec"
   ]
  },
  {
   "cell_type": "markdown",
   "metadata": {},
   "source": [
    "### Probando el método"
   ]
  },
  {
   "cell_type": "code",
   "execution_count": 11,
   "metadata": {},
   "outputs": [
    {
     "data": {
      "text/plain": [
       "19.54317055555556"
      ]
     },
     "execution_count": 11,
     "metadata": {},
     "output_type": "execute_result"
    }
   ],
   "source": [
    "gmsToDec(\"19°32'35.414\\\" N\")"
   ]
  },
  {
   "cell_type": "markdown",
   "metadata": {},
   "source": [
    "### Se crea nueva columna en el DataFrame para la latitud expresada en decimal"
   ]
  },
  {
   "cell_type": "code",
   "execution_count": 12,
   "metadata": {
    "scrolled": true
   },
   "outputs": [],
   "source": [
    "pob[\"LATITUD_DEC\"] = pob[\"LATITUD\"].apply(gmsToDec)"
   ]
  },
  {
   "cell_type": "code",
   "execution_count": 13,
   "metadata": {},
   "outputs": [
    {
     "data": {
      "text/plain": [
       "7         21.879823\n",
       "8         21.871875\n",
       "9         21.883756\n",
       "10        21.780181\n",
       "11        21.945068\n",
       "            ...    \n",
       "195656    21.497599\n",
       "195657    21.553438\n",
       "195658    21.486425\n",
       "195659    21.504213\n",
       "195660    21.527595\n",
       "Name: LATITUD_DEC, Length: 189432, dtype: float64"
      ]
     },
     "execution_count": 13,
     "metadata": {},
     "output_type": "execute_result"
    }
   ],
   "source": [
    "pob.LATITUD_DEC"
   ]
  },
  {
   "cell_type": "markdown",
   "metadata": {},
   "source": [
    "### Columna nueva agregada"
   ]
  },
  {
   "cell_type": "code",
   "execution_count": 14,
   "metadata": {},
   "outputs": [
    {
     "data": {
      "text/html": [
       "<div>\n",
       "<style scoped>\n",
       "    .dataframe tbody tr th:only-of-type {\n",
       "        vertical-align: middle;\n",
       "    }\n",
       "\n",
       "    .dataframe tbody tr th {\n",
       "        vertical-align: top;\n",
       "    }\n",
       "\n",
       "    .dataframe thead th {\n",
       "        text-align: right;\n",
       "    }\n",
       "</style>\n",
       "<table border=\"1\" class=\"dataframe\">\n",
       "  <thead>\n",
       "    <tr style=\"text-align: right;\">\n",
       "      <th></th>\n",
       "      <th>ENTIDAD</th>\n",
       "      <th>NOM_ENT</th>\n",
       "      <th>MUN</th>\n",
       "      <th>NOM_MUN</th>\n",
       "      <th>LOC</th>\n",
       "      <th>NOM_LOC</th>\n",
       "      <th>LONGITUD</th>\n",
       "      <th>LATITUD</th>\n",
       "      <th>ALTITUD</th>\n",
       "      <th>POBTOT</th>\n",
       "      <th>POBFEM</th>\n",
       "      <th>POBMAS</th>\n",
       "      <th>TAMLOC</th>\n",
       "      <th>LATITUD_DEC</th>\n",
       "    </tr>\n",
       "  </thead>\n",
       "  <tbody>\n",
       "    <tr>\n",
       "      <th>7</th>\n",
       "      <td>1</td>\n",
       "      <td>Aguascalientes</td>\n",
       "      <td>1</td>\n",
       "      <td>Aguascalientes</td>\n",
       "      <td>1</td>\n",
       "      <td>Aguascalientes</td>\n",
       "      <td>102°17'45.768\" W</td>\n",
       "      <td>21°52'47.362\" N</td>\n",
       "      <td>1878</td>\n",
       "      <td>863893</td>\n",
       "      <td>444725</td>\n",
       "      <td>419168</td>\n",
       "      <td>13</td>\n",
       "      <td>21.879823</td>\n",
       "    </tr>\n",
       "    <tr>\n",
       "      <th>8</th>\n",
       "      <td>1</td>\n",
       "      <td>Aguascalientes</td>\n",
       "      <td>1</td>\n",
       "      <td>Aguascalientes</td>\n",
       "      <td>94</td>\n",
       "      <td>Granja Adelita</td>\n",
       "      <td>102°22'24.710\" W</td>\n",
       "      <td>21°52'18.749\" N</td>\n",
       "      <td>1902</td>\n",
       "      <td>5</td>\n",
       "      <td>*</td>\n",
       "      <td>*</td>\n",
       "      <td>1</td>\n",
       "      <td>21.871875</td>\n",
       "    </tr>\n",
       "    <tr>\n",
       "      <th>9</th>\n",
       "      <td>1</td>\n",
       "      <td>Aguascalientes</td>\n",
       "      <td>1</td>\n",
       "      <td>Aguascalientes</td>\n",
       "      <td>96</td>\n",
       "      <td>Agua Azul</td>\n",
       "      <td>102°21'25.639\" W</td>\n",
       "      <td>21°53'01.522\" N</td>\n",
       "      <td>1861</td>\n",
       "      <td>41</td>\n",
       "      <td>17</td>\n",
       "      <td>24</td>\n",
       "      <td>1</td>\n",
       "      <td>21.883756</td>\n",
       "    </tr>\n",
       "    <tr>\n",
       "      <th>10</th>\n",
       "      <td>1</td>\n",
       "      <td>Aguascalientes</td>\n",
       "      <td>1</td>\n",
       "      <td>Aguascalientes</td>\n",
       "      <td>102</td>\n",
       "      <td>Los Arbolitos [Rancho]</td>\n",
       "      <td>102°21'26.261\" W</td>\n",
       "      <td>21°46'48.650\" N</td>\n",
       "      <td>1861</td>\n",
       "      <td>8</td>\n",
       "      <td>*</td>\n",
       "      <td>*</td>\n",
       "      <td>1</td>\n",
       "      <td>21.780181</td>\n",
       "    </tr>\n",
       "    <tr>\n",
       "      <th>11</th>\n",
       "      <td>1</td>\n",
       "      <td>Aguascalientes</td>\n",
       "      <td>1</td>\n",
       "      <td>Aguascalientes</td>\n",
       "      <td>104</td>\n",
       "      <td>Ardillas de Abajo (Las Ardillas)</td>\n",
       "      <td>102°11'30.914\" W</td>\n",
       "      <td>21°56'42.243\" N</td>\n",
       "      <td>1989</td>\n",
       "      <td>1</td>\n",
       "      <td>*</td>\n",
       "      <td>*</td>\n",
       "      <td>1</td>\n",
       "      <td>21.945068</td>\n",
       "    </tr>\n",
       "  </tbody>\n",
       "</table>\n",
       "</div>"
      ],
      "text/plain": [
       "    ENTIDAD         NOM_ENT  MUN         NOM_MUN  LOC  \\\n",
       "7         1  Aguascalientes    1  Aguascalientes    1   \n",
       "8         1  Aguascalientes    1  Aguascalientes   94   \n",
       "9         1  Aguascalientes    1  Aguascalientes   96   \n",
       "10        1  Aguascalientes    1  Aguascalientes  102   \n",
       "11        1  Aguascalientes    1  Aguascalientes  104   \n",
       "\n",
       "                             NOM_LOC          LONGITUD          LATITUD  \\\n",
       "7                     Aguascalientes  102°17'45.768\" W  21°52'47.362\" N   \n",
       "8                     Granja Adelita  102°22'24.710\" W  21°52'18.749\" N   \n",
       "9                          Agua Azul  102°21'25.639\" W  21°53'01.522\" N   \n",
       "10            Los Arbolitos [Rancho]  102°21'26.261\" W  21°46'48.650\" N   \n",
       "11  Ardillas de Abajo (Las Ardillas)  102°11'30.914\" W  21°56'42.243\" N   \n",
       "\n",
       "   ALTITUD  POBTOT  POBFEM  POBMAS TAMLOC  LATITUD_DEC  \n",
       "7     1878  863893  444725  419168     13    21.879823  \n",
       "8     1902       5       *       *      1    21.871875  \n",
       "9     1861      41      17      24      1    21.883756  \n",
       "10    1861       8       *       *      1    21.780181  \n",
       "11    1989       1       *       *      1    21.945068  "
      ]
     },
     "execution_count": 14,
     "metadata": {},
     "output_type": "execute_result"
    }
   ],
   "source": [
    "pob.head()"
   ]
  },
  {
   "cell_type": "markdown",
   "metadata": {},
   "source": [
    "### Se crea nueva columna en el DataFrame para la longitud expresada en decimal"
   ]
  },
  {
   "cell_type": "code",
   "execution_count": 16,
   "metadata": {},
   "outputs": [],
   "source": [
    "longitud_series = pob[\"LONGITUD\"].apply(gmsToDec)"
   ]
  },
  {
   "cell_type": "code",
   "execution_count": 17,
   "metadata": {},
   "outputs": [
    {
     "data": {
      "text/plain": [
       "7         102.296047\n",
       "8         102.373531\n",
       "9         102.357122\n",
       "10        102.357295\n",
       "11        102.191921\n",
       "             ...    \n",
       "195656    103.241053\n",
       "195657    103.414701\n",
       "195658    103.337268\n",
       "195659    103.335932\n",
       "195660    103.372259\n",
       "Name: LONGITUD, Length: 189432, dtype: float64"
      ]
     },
     "execution_count": 17,
     "metadata": {},
     "output_type": "execute_result"
    }
   ],
   "source": [
    "longitud_series"
   ]
  },
  {
   "cell_type": "code",
   "execution_count": 18,
   "metadata": {},
   "outputs": [],
   "source": [
    "pob[\"LONGITUD_DEC\"] = longitud_series"
   ]
  },
  {
   "cell_type": "code",
   "execution_count": 19,
   "metadata": {
    "scrolled": true
   },
   "outputs": [
    {
     "data": {
      "text/html": [
       "<div>\n",
       "<style scoped>\n",
       "    .dataframe tbody tr th:only-of-type {\n",
       "        vertical-align: middle;\n",
       "    }\n",
       "\n",
       "    .dataframe tbody tr th {\n",
       "        vertical-align: top;\n",
       "    }\n",
       "\n",
       "    .dataframe thead th {\n",
       "        text-align: right;\n",
       "    }\n",
       "</style>\n",
       "<table border=\"1\" class=\"dataframe\">\n",
       "  <thead>\n",
       "    <tr style=\"text-align: right;\">\n",
       "      <th></th>\n",
       "      <th>ENTIDAD</th>\n",
       "      <th>NOM_ENT</th>\n",
       "      <th>MUN</th>\n",
       "      <th>NOM_MUN</th>\n",
       "      <th>LOC</th>\n",
       "      <th>NOM_LOC</th>\n",
       "      <th>LONGITUD</th>\n",
       "      <th>LATITUD</th>\n",
       "      <th>ALTITUD</th>\n",
       "      <th>POBTOT</th>\n",
       "      <th>POBFEM</th>\n",
       "      <th>POBMAS</th>\n",
       "      <th>TAMLOC</th>\n",
       "      <th>LATITUD_DEC</th>\n",
       "      <th>LONGITUD_DEC</th>\n",
       "    </tr>\n",
       "  </thead>\n",
       "  <tbody>\n",
       "    <tr>\n",
       "      <th>7</th>\n",
       "      <td>1</td>\n",
       "      <td>Aguascalientes</td>\n",
       "      <td>1</td>\n",
       "      <td>Aguascalientes</td>\n",
       "      <td>1</td>\n",
       "      <td>Aguascalientes</td>\n",
       "      <td>102°17'45.768\" W</td>\n",
       "      <td>21°52'47.362\" N</td>\n",
       "      <td>1878</td>\n",
       "      <td>863893</td>\n",
       "      <td>444725</td>\n",
       "      <td>419168</td>\n",
       "      <td>13</td>\n",
       "      <td>21.879823</td>\n",
       "      <td>102.296047</td>\n",
       "    </tr>\n",
       "    <tr>\n",
       "      <th>8</th>\n",
       "      <td>1</td>\n",
       "      <td>Aguascalientes</td>\n",
       "      <td>1</td>\n",
       "      <td>Aguascalientes</td>\n",
       "      <td>94</td>\n",
       "      <td>Granja Adelita</td>\n",
       "      <td>102°22'24.710\" W</td>\n",
       "      <td>21°52'18.749\" N</td>\n",
       "      <td>1902</td>\n",
       "      <td>5</td>\n",
       "      <td>*</td>\n",
       "      <td>*</td>\n",
       "      <td>1</td>\n",
       "      <td>21.871875</td>\n",
       "      <td>102.373531</td>\n",
       "    </tr>\n",
       "    <tr>\n",
       "      <th>9</th>\n",
       "      <td>1</td>\n",
       "      <td>Aguascalientes</td>\n",
       "      <td>1</td>\n",
       "      <td>Aguascalientes</td>\n",
       "      <td>96</td>\n",
       "      <td>Agua Azul</td>\n",
       "      <td>102°21'25.639\" W</td>\n",
       "      <td>21°53'01.522\" N</td>\n",
       "      <td>1861</td>\n",
       "      <td>41</td>\n",
       "      <td>17</td>\n",
       "      <td>24</td>\n",
       "      <td>1</td>\n",
       "      <td>21.883756</td>\n",
       "      <td>102.357122</td>\n",
       "    </tr>\n",
       "    <tr>\n",
       "      <th>10</th>\n",
       "      <td>1</td>\n",
       "      <td>Aguascalientes</td>\n",
       "      <td>1</td>\n",
       "      <td>Aguascalientes</td>\n",
       "      <td>102</td>\n",
       "      <td>Los Arbolitos [Rancho]</td>\n",
       "      <td>102°21'26.261\" W</td>\n",
       "      <td>21°46'48.650\" N</td>\n",
       "      <td>1861</td>\n",
       "      <td>8</td>\n",
       "      <td>*</td>\n",
       "      <td>*</td>\n",
       "      <td>1</td>\n",
       "      <td>21.780181</td>\n",
       "      <td>102.357295</td>\n",
       "    </tr>\n",
       "    <tr>\n",
       "      <th>11</th>\n",
       "      <td>1</td>\n",
       "      <td>Aguascalientes</td>\n",
       "      <td>1</td>\n",
       "      <td>Aguascalientes</td>\n",
       "      <td>104</td>\n",
       "      <td>Ardillas de Abajo (Las Ardillas)</td>\n",
       "      <td>102°11'30.914\" W</td>\n",
       "      <td>21°56'42.243\" N</td>\n",
       "      <td>1989</td>\n",
       "      <td>1</td>\n",
       "      <td>*</td>\n",
       "      <td>*</td>\n",
       "      <td>1</td>\n",
       "      <td>21.945068</td>\n",
       "      <td>102.191921</td>\n",
       "    </tr>\n",
       "  </tbody>\n",
       "</table>\n",
       "</div>"
      ],
      "text/plain": [
       "    ENTIDAD         NOM_ENT  MUN         NOM_MUN  LOC  \\\n",
       "7         1  Aguascalientes    1  Aguascalientes    1   \n",
       "8         1  Aguascalientes    1  Aguascalientes   94   \n",
       "9         1  Aguascalientes    1  Aguascalientes   96   \n",
       "10        1  Aguascalientes    1  Aguascalientes  102   \n",
       "11        1  Aguascalientes    1  Aguascalientes  104   \n",
       "\n",
       "                             NOM_LOC          LONGITUD          LATITUD  \\\n",
       "7                     Aguascalientes  102°17'45.768\" W  21°52'47.362\" N   \n",
       "8                     Granja Adelita  102°22'24.710\" W  21°52'18.749\" N   \n",
       "9                          Agua Azul  102°21'25.639\" W  21°53'01.522\" N   \n",
       "10            Los Arbolitos [Rancho]  102°21'26.261\" W  21°46'48.650\" N   \n",
       "11  Ardillas de Abajo (Las Ardillas)  102°11'30.914\" W  21°56'42.243\" N   \n",
       "\n",
       "   ALTITUD  POBTOT  POBFEM  POBMAS TAMLOC  LATITUD_DEC  LONGITUD_DEC  \n",
       "7     1878  863893  444725  419168     13    21.879823    102.296047  \n",
       "8     1902       5       *       *      1    21.871875    102.373531  \n",
       "9     1861      41      17      24      1    21.883756    102.357122  \n",
       "10    1861       8       *       *      1    21.780181    102.357295  \n",
       "11    1989       1       *       *      1    21.945068    102.191921  "
      ]
     },
     "execution_count": 19,
     "metadata": {},
     "output_type": "execute_result"
    }
   ],
   "source": [
    "pob.head()"
   ]
  },
  {
   "cell_type": "markdown",
   "metadata": {},
   "source": [
    "### Suma de la población total nacional"
   ]
  },
  {
   "cell_type": "code",
   "execution_count": 21,
   "metadata": {},
   "outputs": [],
   "source": [
    "poblacionTotal = pob[\"POBTOT\"].sum()"
   ]
  },
  {
   "cell_type": "code",
   "execution_count": 22,
   "metadata": {},
   "outputs": [
    {
     "data": {
      "text/plain": [
       "126014024"
      ]
     },
     "execution_count": 22,
     "metadata": {},
     "output_type": "execute_result"
    }
   ],
   "source": [
    "poblacionTotal"
   ]
  },
  {
   "cell_type": "markdown",
   "metadata": {},
   "source": [
    "### Se aplica fórmula para la latitud del centro medio de población"
   ]
  },
  {
   "cell_type": "code",
   "execution_count": 23,
   "metadata": {},
   "outputs": [],
   "source": [
    "pob_x_latitud =  pob.POBTOT * pob.LATITUD_DEC"
   ]
  },
  {
   "cell_type": "code",
   "execution_count": 26,
   "metadata": {},
   "outputs": [],
   "source": [
    "sumatoriaLatitud = pob_x_latitud.sum()"
   ]
  },
  {
   "cell_type": "code",
   "execution_count": 27,
   "metadata": {},
   "outputs": [
    {
     "data": {
      "text/plain": [
       "2678645985.042482"
      ]
     },
     "execution_count": 27,
     "metadata": {},
     "output_type": "execute_result"
    }
   ],
   "source": [
    "sumatoriaLatitud"
   ]
  },
  {
   "cell_type": "markdown",
   "metadata": {},
   "source": [
    "### **Resultado** : Latitud del centro medio de población"
   ]
  },
  {
   "cell_type": "code",
   "execution_count": 30,
   "metadata": {},
   "outputs": [
    {
     "data": {
      "text/plain": [
       "21.256729211682675"
      ]
     },
     "execution_count": 30,
     "metadata": {},
     "output_type": "execute_result"
    }
   ],
   "source": [
    "sumatoriaLatitud/poblacionTotal"
   ]
  },
  {
   "cell_type": "markdown",
   "metadata": {},
   "source": [
    "### Se aplica fórmula para la longitud del centro medio de población"
   ]
  },
  {
   "cell_type": "code",
   "execution_count": 31,
   "metadata": {},
   "outputs": [],
   "source": [
    "pob_lon_numerador = pob.POBTOT * pob.LONGITUD_DEC * numpy.cos(pob.LATITUD_DEC * (math.pi / 180))"
   ]
  },
  {
   "cell_type": "code",
   "execution_count": 32,
   "metadata": {},
   "outputs": [],
   "source": [
    "pob_lon_denominador = pob.POBTOT * numpy.cos(pob.LATITUD_DEC * (math.pi / 180))"
   ]
  },
  {
   "cell_type": "markdown",
   "metadata": {},
   "source": [
    "### **Resultado**: Longitud del centro medio de población (considerarse en valor negativo por ser hemisferio occidental)"
   ]
  },
  {
   "cell_type": "code",
   "execution_count": 33,
   "metadata": {},
   "outputs": [
    {
     "data": {
      "text/plain": [
       "100.05476844794943"
      ]
     },
     "execution_count": 33,
     "metadata": {},
     "output_type": "execute_result"
    }
   ],
   "source": [
    "pob_lon_numerador.sum() / pob_lon_denominador.sum()"
   ]
  },
  {
   "cell_type": "code",
   "execution_count": null,
   "metadata": {},
   "outputs": [],
   "source": []
  }
 ],
 "metadata": {
  "kernelspec": {
   "display_name": "Python 3",
   "language": "python",
   "name": "python3"
  },
  "language_info": {
   "codemirror_mode": {
    "name": "ipython",
    "version": 3
   },
   "file_extension": ".py",
   "mimetype": "text/x-python",
   "name": "python",
   "nbconvert_exporter": "python",
   "pygments_lexer": "ipython3",
   "version": "3.7.6"
  }
 },
 "nbformat": 4,
 "nbformat_minor": 4
}
